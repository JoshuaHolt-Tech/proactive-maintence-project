{
 "cells": [
  {
   "cell_type": "code",
   "execution_count": 1,
   "id": "38a86437-d333-40c6-bdba-7689fb8086bc",
   "metadata": {},
   "outputs": [],
   "source": [
    "import matplotlib.pyplot as plt\n",
    "import seaborn as sns\n",
    "import pandas as pd\n",
    "from scipy import stats\n",
    "from wrangle import wrangle_data\n",
    "import modeling as m\n",
    "\n",
    "#Tools to build machine learning models and reports\n",
    "from sklearn.metrics import classification_report, confusion_matrix, precision_score, recall_score\n",
    "from sklearn.model_selection import train_test_split\n",
    "from sklearn.tree import DecisionTreeClassifier, plot_tree\n",
    "from sklearn.ensemble import RandomForestClassifier\n",
    "from sklearn.neighbors import KNeighborsClassifier\n",
    "from sklearn.linear_model import LogisticRegression\n",
    "\n",
    "#Removes warnings and imporves asthenics\n",
    "import warnings\n",
    "warnings.filterwarnings(\"ignore\")"
   ]
  },
  {
   "cell_type": "code",
   "execution_count": 2,
   "id": "a399b318-ef64-4f34-8714-d9160d4fa540",
   "metadata": {},
   "outputs": [],
   "source": [
    "random_seed=1969"
   ]
  },
  {
   "cell_type": "code",
   "execution_count": 3,
   "id": "e06a90a8-9374-42aa-84ec-1362cf3af58f",
   "metadata": {},
   "outputs": [],
   "source": [
    "df = wrangle_data()"
   ]
  },
  {
   "cell_type": "code",
   "execution_count": 4,
   "id": "c2538b96-566d-40fd-b927-561c3626377e",
   "metadata": {},
   "outputs": [
    {
     "data": {
      "text/plain": [
       "Index(['UDI', 'Product ID', 'Type', 'Air temperature [K]',\n",
       "       'Process temperature [K]', 'Rotational speed [rpm]', 'Torque [Nm]',\n",
       "       'Tool wear [min]', 'Target', 'Temp Delta [K]'],\n",
       "      dtype='object')"
      ]
     },
     "execution_count": 4,
     "metadata": {},
     "output_type": "execute_result"
    }
   ],
   "source": [
    "df.columns"
   ]
  },
  {
   "cell_type": "code",
   "execution_count": 5,
   "id": "8282944d-fc58-4625-9bb3-85e5c03e099a",
   "metadata": {},
   "outputs": [],
   "source": [
    "dumb_cols = ['Type']\n",
    "df = pd.get_dummies(df, columns = dumb_cols)"
   ]
  },
  {
   "cell_type": "code",
   "execution_count": 6,
   "id": "95416644-d954-4969-864b-61deab41eb7a",
   "metadata": {},
   "outputs": [],
   "source": [
    "df = df.drop(columns=['UDI', 'Product ID'])"
   ]
  },
  {
   "cell_type": "code",
   "execution_count": 7,
   "id": "07984475-e189-4917-93fb-00ce4bba1c4b",
   "metadata": {},
   "outputs": [],
   "source": [
    "target_col = 'Target'"
   ]
  },
  {
   "cell_type": "code",
   "execution_count": 8,
   "id": "05e643b2-d540-4513-a852-c8cdaf3ddf59",
   "metadata": {},
   "outputs": [],
   "source": [
    "train, val, test = m.train_validate(df, stratify_col = target_col)"
   ]
  },
  {
   "cell_type": "code",
   "execution_count": 9,
   "id": "0aca0d19-3907-4a5d-8f18-5213098b1e74",
   "metadata": {},
   "outputs": [
    {
     "data": {
      "text/plain": [
       "True"
      ]
     },
     "execution_count": 9,
     "metadata": {},
     "output_type": "execute_result"
    }
   ],
   "source": [
    "train.shape[0] + val.shape[0] + test.shape[0] == df.shape[0]"
   ]
  },
  {
   "cell_type": "code",
   "execution_count": 10,
   "id": "24dda0fa-05bd-48e6-a4e8-fcb57a192399",
   "metadata": {},
   "outputs": [],
   "source": [
    "cont_columns = ['Air temperature [K]', 'Process temperature [K]', 'Rotational speed [rpm]', 'Torque [Nm]', 'Tool wear [min]', 'Temp Delta [K]']"
   ]
  },
  {
   "cell_type": "code",
   "execution_count": 11,
   "id": "5ed9afd3-802f-448f-ac26-83de475a237e",
   "metadata": {},
   "outputs": [],
   "source": [
    "train_scaled, val_scaled, test_scaled = m.scale_cont_columns(train, val, test, cont_columns, scaler_model = 1)"
   ]
  },
  {
   "cell_type": "code",
   "execution_count": 12,
   "id": "edbacdcb-0af6-46c0-85d8-22964c4c9737",
   "metadata": {},
   "outputs": [],
   "source": [
    "X_train, y_train, X_val, y_val, X_test, y_test = m.train_val_test(train_scaled, val_scaled, test_scaled, target_col)"
   ]
  },
  {
   "cell_type": "code",
   "execution_count": 13,
   "id": "2c67f395-d2af-4357-8a1f-2b4e8002f699",
   "metadata": {},
   "outputs": [
    {
     "data": {
      "text/plain": [
       "0.03395833333333333"
      ]
     },
     "execution_count": 13,
     "metadata": {},
     "output_type": "execute_result"
    }
   ],
   "source": [
    "#Still guess the most prevelent class. Then calc recall for zero.\n",
    "\n",
    "baseline = train['Target'].sum()/len(train['Target'])\n",
    "baseline"
   ]
  },
  {
   "cell_type": "code",
   "execution_count": 14,
   "id": "9b0e4f6f-30e0-4203-bb61-5a3b92623c86",
   "metadata": {},
   "outputs": [
    {
     "name": "stdout",
     "output_type": "stream",
     "text": [
      "Recall of Decision Tree classifier on training set:   0.7423\n",
      "Recall of Decision Tree classifier on validation set: 0.6019\n"
     ]
    }
   ],
   "source": [
    "m.dec_tree(X_train, y_train, X_val, y_val, metric = 3)"
   ]
  },
  {
   "cell_type": "code",
   "execution_count": 15,
   "id": "9b545f1f-0438-423b-9556-6d406ef1e3a9",
   "metadata": {},
   "outputs": [
    {
     "name": "stdout",
     "output_type": "stream",
     "text": [
      "Recall of Random Forest classifier on training set:   0.6258\n",
      "Recall of Random Forest classifier on validation set: 0.4722\n"
     ]
    }
   ],
   "source": [
    "m.rand_forest(X_train, y_train, X_val, y_val, metric = 3)"
   ]
  },
  {
   "cell_type": "code",
   "execution_count": 16,
   "id": "4f150f79-ce2f-425b-8b91-f1fbe3846e1a",
   "metadata": {},
   "outputs": [
    {
     "name": "stdout",
     "output_type": "stream",
     "text": [
      "Recall of KNN classifier on training set:   0.3374\n",
      "Recall of KNN classifier on validation set: 0.2500\n"
     ]
    }
   ],
   "source": [
    "m.knn_mod(X_train, y_train, X_val, y_val, metric = 3)"
   ]
  },
  {
   "cell_type": "code",
   "execution_count": 17,
   "id": "023de82b-3b7d-4c3a-bf0b-93b36c16f78d",
   "metadata": {},
   "outputs": [
    {
     "name": "stdout",
     "output_type": "stream",
     "text": [
      "Recall of Logistic Regression classifier on training set:   0.0123\n",
      "Recall of Logistic Regression classifier on validation set: 0.0093\n"
     ]
    }
   ],
   "source": [
    "m.lr_mod(X_train, y_train, X_val, y_val, metric = 3)"
   ]
  },
  {
   "cell_type": "code",
   "execution_count": null,
   "id": "7013343b-5d75-43dd-b748-fb20cd88dbd6",
   "metadata": {},
   "outputs": [],
   "source": []
  },
  {
   "cell_type": "markdown",
   "id": "808c4c8b-9d5a-4c3a-bfa6-f51a232d8f4d",
   "metadata": {},
   "source": [
    "### Tuning the algrothium paramaters"
   ]
  },
  {
   "cell_type": "code",
   "execution_count": null,
   "id": "44e9970f-edb1-4c1b-961a-6ab9755b2746",
   "metadata": {},
   "outputs": [],
   "source": [
    "metrics = []\n",
    "\n",
    "for i in range(1, 25):\n",
    "    trees = DecisionTreeClassifier(max_depth=i, random_state=1969)\n",
    "    trees = trees.fit(X_train, y_train)\n",
    "        \n",
    "    y_pred = trees.predict(X_train)\n",
    "    y_pred_val = trees.predict(X_val)\n",
    "\n",
    "    in_sample_accuracy = recall_score(y_train, y_pred)\n",
    "    out_of_sample_accuracy = recall_score(y_val, y_pred_val)\n",
    "\n",
    "    output = {\"max_depth\" : i, \"train_accuracy\": in_sample_accuracy, \"validate_accuracy\": out_of_sample_accuracy}\n",
    "              \n",
    "    metrics.append(output)\n",
    "\n",
    "df_tune = pd.DataFrame(metrics)              \n",
    "df_tune['difference'] = df_tune.train_accuracy - df_tune.validate_accuracy              "
   ]
  },
  {
   "cell_type": "code",
   "execution_count": null,
   "id": "f7319f6e-f75d-4d99-99a5-d23bca039680",
   "metadata": {},
   "outputs": [],
   "source": [
    "y_pred = trees.predict(X_train)\n",
    "y_pred_val = trees.predict(X_val)"
   ]
  },
  {
   "cell_type": "code",
   "execution_count": null,
   "id": "c873712b-acca-4ead-b537-d6207f88eeea",
   "metadata": {},
   "outputs": [],
   "source": [
    "print(classification_report(y_val, y_pred_val))"
   ]
  },
  {
   "cell_type": "code",
   "execution_count": null,
   "id": "f56905d8-abbf-40ab-9c66-0ef37a80009d",
   "metadata": {},
   "outputs": [],
   "source": []
  },
  {
   "cell_type": "code",
   "execution_count": null,
   "id": "89303ea4-74d4-4fd6-bed6-4c7cbe9562f6",
   "metadata": {},
   "outputs": [],
   "source": [
    "\n",
    "plt.figure(figsize=(12,6))\n",
    "plt.plot(df_tune.max_depth, df_tune.train_accuracy, marker = 'o', label= 'Train')\n",
    "plt.plot(df_tune.max_depth, df_tune.validate_accuracy, marker = 'o', label= 'Validate')\n",
    "plt.legend()\n",
    "plt.title(\"Decision Tree scores while adjusting max_depth\")\n",
    "plt.show()\n"
   ]
  },
  {
   "cell_type": "code",
   "execution_count": null,
   "id": "70c86481-f070-49e0-bf76-cbe03db72b68",
   "metadata": {},
   "outputs": [],
   "source": [
    "metrics = []\n",
    "\n",
    "for i in range(1, 20):\n",
    "    rf_5 = RandomForestClassifier(max_depth=i, min_samples_leaf = 5, random_state= 1969)\n",
    "    rf_5 = rf_5.fit(X_train, y_train)\n",
    "    \n",
    "    \n",
    "    y_pred = rf_5.predict(X_train)\n",
    "    y_pred_val = rf_5.predict(X_val)\n",
    "\n",
    "    in_sample_accuracy = recall_score(y_train, y_pred)\n",
    "    out_of_sample_accuracy = recall_score(y_val, y_pred_val)\n",
    "\n",
    "    output = {\"max_depth\" : i, \"train_accuracy\": in_sample_accuracy, \"validate_accuracy\": out_of_sample_accuracy}\n",
    "              \n",
    "    metrics.append(output)\n",
    "\n",
    "rand_forest = pd.DataFrame(metrics)              \n",
    "rand_forest['difference'] = rand_forest.train_accuracy - rand_forest.validate_accuracy "
   ]
  },
  {
   "cell_type": "code",
   "execution_count": null,
   "id": "e1c2a541-ec3a-454e-a6d6-994df8419899",
   "metadata": {},
   "outputs": [],
   "source": [
    "\n",
    "plt.figure(figsize=(12,6))\n",
    "plt.plot(rand_forest.max_depth, rand_forest.train_accuracy, marker = 'o', label= 'Train')\n",
    "plt.plot(rand_forest.max_depth, rand_forest.validate_accuracy, marker = 'o', label= 'Validate')\n",
    "#plt.plot(rand_forest.max_depth, rand_forest.difference, marker = '.', label = 'Difference')\n",
    "\n",
    "plt.legend()\n",
    "plt.title(\"Random Forest adjusting max_depth\")\n",
    "plt.xlabel(\"max_depth number\")\n",
    "plt.ylabel(\"Accuracy\")\n",
    "plt.show()"
   ]
  },
  {
   "cell_type": "code",
   "execution_count": null,
   "id": "9908ef18-e592-4689-9f69-d1f6c8506ba0",
   "metadata": {},
   "outputs": [],
   "source": [
    "metrics = []\n",
    "\n",
    "for i in range(1, 21, 2): #Remember not to use even numbers to prevent gridlock.\n",
    "    knn_5 = KNeighborsClassifier(n_neighbors=i)\n",
    "    knn_5 = knn_5.fit(X_train, y_train)\n",
    "    \n",
    "    \n",
    "    y_pred = knn_5.predict(X_train)\n",
    "    y_pred_val = knn_5.predict(X_val)\n",
    "\n",
    "    in_sample_accuracy = recall_score(y_train, y_pred)\n",
    "    out_of_sample_accuracy = recall_score(y_val, y_pred_val)\n",
    "\n",
    "    output = {\"max_depth\" : i, \"train_accuracy\": in_sample_accuracy, \"validate_accuracy\": out_of_sample_accuracy}\n",
    "              \n",
    "    metrics.append(output)\n",
    "\n",
    "df_tune = pd.DataFrame(metrics)              \n",
    "df_tune['difference'] = df_tune.train_accuracy - df_tune.validate_accuracy "
   ]
  },
  {
   "cell_type": "code",
   "execution_count": null,
   "id": "e6445b65-4db0-4455-9da4-ba49ad0f3516",
   "metadata": {},
   "outputs": [],
   "source": [
    "\n",
    "plt.figure(figsize=(12,6))\n",
    "plt.plot(df_tune.max_depth, df_tune.train_accuracy, marker = 'o', label= 'Train')\n",
    "plt.plot(df_tune.max_depth, df_tune.validate_accuracy, marker = 'o', label= 'Validate')\n",
    "#plt.plot(df_tune.max_depth, df_tune.difference, marker = '.', label = 'Difference')\n",
    "plt.legend()\n",
    "plt.title(\"KNN using from 1 - 21 nearest neighbors\")\n",
    "plt.xlabel(\"Number of n_neighbors\")\n",
    "plt.ylabel(\"Accuracy\")\n",
    "plt.show()"
   ]
  },
  {
   "cell_type": "markdown",
   "id": "f8fb608c-aca5-44a4-9111-fb15a457ebf6",
   "metadata": {},
   "source": [
    "‘lbfgs’ - [‘l2’, None]\n",
    "\n",
    "‘liblinear’ - [‘l1’, ‘l2’]\n",
    "\n",
    "‘newton-cg’ - [‘l2’, None]\n",
    "\n",
    "‘newton-cholesky’ - [‘l2’, None] #Apparently this doesn't exist\n",
    "\n",
    "‘sag’ - [‘l2’, None]\n",
    "\n",
    "‘saga’ - [‘elasticnet’, ‘l1’, ‘l2’, None]"
   ]
  },
  {
   "cell_type": "code",
   "execution_count": null,
   "id": "d69517ac-bf5f-4b8e-8c7e-721cf7d37be6",
   "metadata": {},
   "outputs": [],
   "source": [
    "solver_list = ['lbfgs', 'newton-cg', 'sag', 'liblinear', 'saga']\n",
    "metrics = []\n",
    "\n",
    "for solver in solver_list:\n",
    "    if (solver == 'lbfgs') or (solver == 'newton-cg') or (solver == 'sag'):\n",
    "        penalties = ['l2', 'none']\n",
    "    elif solver == 'liblinear':\n",
    "        penalties = ['l1', 'l2']\n",
    "    elif solver == 'saga':\n",
    "        penalties = ['elasticnet', 'l1', 'l2', 'none']\n",
    "    \n",
    "    for penalty in penalties:\n",
    "        if penalty == 'elasticnet':\n",
    "            l1_ratio = 0.5\n",
    "        else:\n",
    "            l1_ratio = None\n",
    "        logit = LogisticRegression(penalty = penalty, solver=solver, l1_ratio = l1_ratio, random_state= 1969)\n",
    "        logit.fit(X_train, y_train)\n",
    "        \n",
    "        \n",
    "        y_pred = logit.predict(X_train)\n",
    "        y_pred_val = logit.predict(X_val)\n",
    "\n",
    "        in_sample_accuracy = recall_score(y_train, y_pred)\n",
    "        out_of_sample_accuracy = recall_score(y_val, y_pred_val)\n",
    "        \n",
    "        output = {\"solver_penalty\" : f'{solver}_{penalty}',\n",
    "                  \"train_accuracy\": in_sample_accuracy,\n",
    "                  \"validate_accuracy\": out_of_sample_accuracy}\n",
    "              \n",
    "        metrics.append(output)\n",
    "\n",
    "logit_df = pd.DataFrame(metrics)              \n",
    "logit_df['difference'] = logit_df.train_accuracy - logit_df.validate_accuracy "
   ]
  },
  {
   "cell_type": "code",
   "execution_count": null,
   "id": "d7a18cc2-468e-4b45-bbcb-bfad33034dfe",
   "metadata": {},
   "outputs": [],
   "source": [
    "plt.figure(figsize=(12,6))\n",
    "plt.plot(logit_df.solver_penalty, logit_df.train_accuracy, marker = 'o', label= 'Train')\n",
    "plt.plot(logit_df.solver_penalty, logit_df.validate_accuracy, marker = 'o', label= 'Validate')\n",
    "#plt.plot(logit_df.solver_penalty, logit_df.difference, marker = '.', label = 'Difference')\n",
    "\n",
    "plt.legend()\n",
    "plt.title(\"Logistic Regression Solvers and penalties\")\n",
    "plt.xlabel(\"Solver and Penalty\")\n",
    "plt.xticks(rotation = 45)\n",
    "plt.ylabel(\"Recall\")\n",
    "plt.show()"
   ]
  },
  {
   "cell_type": "code",
   "execution_count": null,
   "id": "78a7c0f0-4c89-4e97-87fa-fd1fcca7ce83",
   "metadata": {},
   "outputs": [],
   "source": [
    "#Up sampling\n",
    "#Class weights"
   ]
  }
 ],
 "metadata": {
  "kernelspec": {
   "display_name": "Python 3 (ipykernel)",
   "language": "python",
   "name": "python3"
  },
  "language_info": {
   "codemirror_mode": {
    "name": "ipython",
    "version": 3
   },
   "file_extension": ".py",
   "mimetype": "text/x-python",
   "name": "python",
   "nbconvert_exporter": "python",
   "pygments_lexer": "ipython3",
   "version": "3.9.15"
  }
 },
 "nbformat": 4,
 "nbformat_minor": 5
}
