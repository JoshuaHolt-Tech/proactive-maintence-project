{
 "cells": [
  {
   "cell_type": "markdown",
   "id": "e791ede8-1fbc-43a2-b0c2-c6d0844b9eee",
   "metadata": {
    "slideshow": {
     "slide_type": "slide"
    },
    "tags": []
   },
   "source": [
    "# Predictive Maintenance Classification: A study in class imbalance"
   ]
  },
  {
   "cell_type": "markdown",
   "id": "6df4a405-781e-4d16-b7a5-980b7b8db629",
   "metadata": {},
   "source": [
    "Need to fix:\n",
    "- Summary\n",
    "- ReadMe"
   ]
  },
  {
   "cell_type": "markdown",
   "id": "633bca9f-ddbf-47e8-83b1-851e86933ada",
   "metadata": {},
   "source": [
    "## Goal:"
   ]
  },
  {
   "cell_type": "markdown",
   "id": "df2494c6-39dc-4fbd-8cdd-69a4b74fe6b8",
   "metadata": {},
   "source": [
    "- Discover the indicators for equipment failure.\n",
    "- Use indicators to develop a machine learning model to classify equipment as likely or unlikely to fail."
   ]
  },
  {
   "cell_type": "markdown",
   "id": "d19b11f0-c02a-4f7d-a7cd-2fbe8bed28fa",
   "metadata": {
    "tags": []
   },
   "source": [
    "## Package Imports\n"
   ]
  },
  {
   "cell_type": "code",
   "execution_count": null,
   "id": "34f03735-a8c8-4abc-a08f-ed5552fbe69d",
   "metadata": {},
   "outputs": [],
   "source": []
  },
  {
   "cell_type": "markdown",
   "id": "4e54d09d-d3a1-498d-a58d-5dc8e23828b3",
   "metadata": {
    "tags": []
   },
   "source": [
    "## Acquire"
   ]
  },
  {
   "cell_type": "markdown",
   "id": "b40981e5-0170-4ba8-91b9-193ccb1b064a",
   "metadata": {},
   "source": [
    "- Data acquired from Kaggle for Machine Predictive Maintenance Classification.\n",
    "    - https://www.kaggle.com/datasets/shivamb/machine-predictive-maintenance-classification?select=predictive_maintenance.csv\n",
    "- Origionally from:\n",
    "    - https://archive.ics.uci.edu/ml/datasets/AI4I+2020+Predictive+Maintenance+Dataset\n",
    "- The query resulted in 10 columns and 10,000 rows.\n",
    "- Each row represents a record about a piece of equipment.\n",
    "- Each column represents a feature associated with that equipment."
   ]
  },
  {
   "cell_type": "markdown",
   "id": "f839a3c1-f013-44ae-8c34-4456f193c7f8",
   "metadata": {
    "tags": []
   },
   "source": [
    "## Prepare"
   ]
  },
  {
   "cell_type": "markdown",
   "id": "1e0d0f1e-4375-4f03-ad0a-988a229a60db",
   "metadata": {},
   "source": [
    "### Prepare Actions:\n",
    "1. No null values.\n",
    "2. Changed column for temperature difference between the process and air.\n",
    "3. Created dummy columns for categorical fields.\n",
    "4. Dropped unused columns.\n",
    "5. Split data into Train, Validate and Test sets (approx. 60/20/20), stratifying on 'Target'."
   ]
  },
  {
   "cell_type": "markdown",
   "id": "963210ad-2ad6-41f2-bd92-5bbfc64292b1",
   "metadata": {},
   "source": [
    "## Data Dictionary:"
   ]
  },
  {
   "cell_type": "markdown",
   "id": "a0378521-c725-4d77-a8cb-d7fe23b6cd12",
   "metadata": {},
   "source": [
    "\n",
    "| Feature |\tDefinition |\n",
    "|:--------|:-----------|\n",
    "|UID| Unique identifier ranging from 1 to 10000|\n",
    "|ProductID| A variant-specific serial number that begines with the Type.|\n",
    "|Type| A quality rating indicated by a letter L, M, or H for low (50% of all products), medium (30%), and high (20%) as product quality variants and a variant-specific serial number|\n",
    "|Air temperature [K]| Generated using a random walk process later normalized to a standard deviation of 2 K around 300 K|\n",
    "|Process temperature [K]| Generated using a random walk process normalized to a standard deviation of 1 K, added to the air temperature plus 10 K.|\n",
    "|Rotational speed [rpm]| Calculated from powepower of 2860 W, overlaid with a normally distributed noise|\n",
    "|Torque [Nm]| Torque values are normally distributed around 40 Nm with an Ïƒ = 10 Nm and no negative values.|\n",
    "|Tool wear [min]|  The quality variants H/M/L add 5/3/2 minutes of tool wear to the used tool in the process.|\n",
    "|Target|  Label that indicates, whether the machine has failed.|\n",
    "|Failure Type| Includes: No Failure, Heat Dissipation Failure, Power Failure, Overstrain Failure, Tool Wear Failure, Random Failures.|\n"
   ]
  },
  {
   "cell_type": "markdown",
   "id": "e27e2ce4-daec-4e47-91b4-cdd812042be1",
   "metadata": {},
   "source": [
    "## Exploring the data"
   ]
  },
  {
   "cell_type": "markdown",
   "id": "1acffb01-4481-4645-b7c4-85cd32ab32a5",
   "metadata": {
    "tags": []
   },
   "source": [
    "## Explore summary"
   ]
  },
  {
   "cell_type": "markdown",
   "id": "225ad8de-efcf-40a1-98b3-657f7fb60a99",
   "metadata": {},
   "source": [
    "All measurements which were shown to have a relationship with equipment failure. The strongest correlations are:\n",
    "1. Torque [Nm]\n",
    "2. Rotational speed [rpm]\n",
    "3. Temp Delta [K]\n",
    "4. Tool wear [min]"
   ]
  },
  {
   "cell_type": "markdown",
   "id": "83ddb909-8ab2-4e5a-bdd9-b6c08197aa1d",
   "metadata": {},
   "source": [
    "## Modeling"
   ]
  },
  {
   "cell_type": "markdown",
   "id": "d75945e8-5250-4513-94ef-5cd661c70284",
   "metadata": {},
   "source": [
    "Measurement: \n",
    "- Recall\n",
    "\n",
    "Basis: \n",
    "- False negative case would miss equipment nearing failure criteria. Equipment failure could cause injury or damage to adjacent machinery."
   ]
  },
  {
   "cell_type": "markdown",
   "id": "f72968c6-d406-41ac-b031-def906b2913b",
   "metadata": {},
   "source": [
    "### Baseline"
   ]
  },
  {
   "cell_type": "markdown",
   "id": "ba69378f-c75e-4f44-a20f-5ee037a3509a",
   "metadata": {},
   "source": [
    "### Modeling Summary"
   ]
  },
  {
   "cell_type": "markdown",
   "id": "eacaccff-9c3c-4b59-8f75-5dea127f146d",
   "metadata": {},
   "source": [
    "- Baseline is 0.\n",
    "- Logistic Regression and Random Forest performed the best using Recall\n",
    "- Looking at the classification report, Logistic Regression is predicting failure most of the time.\n",
    "- Random Forest is doing a much better job overall."
   ]
  },
  {
   "cell_type": "markdown",
   "id": "795d4ca2-1373-4218-95b9-7b8bc3692c15",
   "metadata": {},
   "source": [
    "### Final Test"
   ]
  },
  {
   "cell_type": "markdown",
   "id": "762d684a-f571-4c93-813d-d98a23403a55",
   "metadata": {},
   "source": [
    "## Conclusion"
   ]
  },
  {
   "cell_type": "markdown",
   "id": "31390ddd-63d5-452c-9515-ba3050506f66",
   "metadata": {},
   "source": [
    "The best performing model was the Logistic Regression classifier\n",
    "- Training set accuracy: 0.8055\n",
    "- Validation set accuracy: 0.7995\n",
    "- Test set accuracy: 0.8041"
   ]
  },
  {
   "cell_type": "markdown",
   "id": "ddcb0fad-427f-4f92-8a0a-08a6a0eb9406",
   "metadata": {},
   "source": [
    "### Summery"
   ]
  },
  {
   "cell_type": "markdown",
   "id": "770295a6-7784-43c1-b6bf-beb17238b9ef",
   "metadata": {},
   "source": [
    "Failures occurs at 27% in the Telco dataset. The drivers of churn are: \n",
    "- Having a month-to-month contract\n",
    "- Not having tech support\n",
    "- Not having online security\n",
    "- Having fiber optic internet \n",
    "- Low tenure/being a new customer\n",
    "- Higher monthly charges"
   ]
  },
  {
   "cell_type": "markdown",
   "id": "b2294752-5b37-4b42-bd6f-d85594537aab",
   "metadata": {},
   "source": [
    "### Recommendations"
   ]
  },
  {
   "cell_type": "markdown",
   "id": "da964420-faec-4cfc-9845-549c9cb8333e",
   "metadata": {},
   "source": [
    "- Establish methods to quickly identify false positive cases and restart equipment."
   ]
  },
  {
   "cell_type": "markdown",
   "id": "da19fb2e-cf5e-4227-affe-e230c0c174f4",
   "metadata": {},
   "source": [
    "### Next Steps"
   ]
  },
  {
   "cell_type": "markdown",
   "id": "d4b44d33-296b-4716-8a0a-423d57e98fb3",
   "metadata": {},
   "source": [
    "- Explore upsampling to improve model performance.\n",
    "- Establish a better baseline metric.\n",
    "- Explore the imbalanced-learn library for better solutions."
   ]
  }
 ],
 "metadata": {
  "kernelspec": {
   "display_name": "Python 3 (ipykernel)",
   "language": "python",
   "name": "python3"
  },
  "language_info": {
   "codemirror_mode": {
    "name": "ipython",
    "version": 3
   },
   "file_extension": ".py",
   "mimetype": "text/x-python",
   "name": "python",
   "nbconvert_exporter": "python",
   "pygments_lexer": "ipython3",
   "version": "3.9.15"
  }
 },
 "nbformat": 4,
 "nbformat_minor": 5
}
